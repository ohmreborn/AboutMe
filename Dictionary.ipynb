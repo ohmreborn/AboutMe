{
  "nbformat": 4,
  "nbformat_minor": 0,
  "metadata": {
    "colab": {
      "name": "โพย datasci_02.ipynb",
      "provenance": [],
      "collapsed_sections": [],
      "authorship_tag": "ABX9TyMK/WCz8KxBOdu0trfMxDRA",
      "include_colab_link": true
    },
    "kernelspec": {
      "name": "python3",
      "display_name": "Python 3"
    },
    "language_info": {
      "name": "python"
    }
  },
  "cells": [
    {
      "cell_type": "markdown",
      "metadata": {
        "id": "view-in-github",
        "colab_type": "text"
      },
      "source": [
        "<a href=\"https://colab.research.google.com/github/ohmreborn/AboutMe/blob/main/Dictionary.ipynb\" target=\"_parent\"><img src=\"https://colab.research.google.com/assets/colab-badge.svg\" alt=\"Open In Colab\"/></a>"
      ]
    },
    {
      "cell_type": "markdown",
      "source": [
        "บอกว่า dict คืออะไร \n",
        "1.    .keys\n",
        "2.    .values\n",
        "3.ทำโจทย์ \n"
      ],
      "metadata": {
        "id": "h5EufkTAzi2G"
      }
    },
    {
      "cell_type": "markdown",
      "source": [
        "ให้ print(keys,values)ของ dic"
      ],
      "metadata": {
        "id": "T55bZuJC09IZ"
      }
    },
    {
      "cell_type": "code",
      "source": [
        "dic = {\n",
        " \"name\": \"Hero\",\n",
        " \"age\": 18,\n",
        " \"gender\": \"male\"\n",
        "}"
      ],
      "metadata": {
        "id": "ZLfm04Sc07tZ"
      },
      "execution_count": null,
      "outputs": []
    },
    {
      "cell_type": "markdown",
      "source": [
        "สอน .keys และ .values"
      ],
      "metadata": {
        "id": "OvVaJ0a91fzn"
      }
    },
    {
      "cell_type": "markdown",
      "source": [
        "สอน การ add dictionary\n",
        "\n",
        "\n",
        "*   .update({\"keys\":\"values\"})\n",
        "*   dic[\"keys\"]=values\n",
        "\n",
        "\n"
      ],
      "metadata": {
        "id": "o48ZibEZ12Uo"
      }
    },
    {
      "cell_type": "markdown",
      "source": [
        "มี dic ให้ add สัตว์ที่ชอบ(pet)"
      ],
      "metadata": {
        "id": "CQ2jQBYg2b3A"
      }
    },
    {
      "cell_type": "code",
      "source": [
        "dic = {\n",
        " \"name\": \"Hero\",\n",
        " \"age\": 18,\n",
        " \"gender\": \"male\"\n",
        "}\n",
        "dic.update({\"pet\":\"cat\"})\n",
        "dic"
      ],
      "metadata": {
        "colab": {
          "base_uri": "https://localhost:8080/"
        },
        "id": "wFem5zfq2bTR",
        "outputId": "ba7da781-bafd-494d-9b80-2163f934aa7d"
      },
      "execution_count": null,
      "outputs": [
        {
          "output_type": "execute_result",
          "data": {
            "text/plain": [
              "{'age': 18, 'gender': 'male', 'name': 'Hero', 'pet': 'cat'}"
            ]
          },
          "metadata": {},
          "execution_count": 18
        }
      ]
    },
    {
      "cell_type": "markdown",
      "source": [
        "dict in list\n",
        "\n",
        "\n",
        "1.   หา ผลรวมของแต่ละ product เช่น {\"fan\":400}เป็นต้น\n",
        "2.   หา ผลรวมทั้งหมด\n",
        "\n",
        "\n",
        "\n"
      ],
      "metadata": {
        "id": "tnleOHAa1fWf"
      }
    },
    {
      "cell_type": "code",
      "source": [
        "import numpy as np\n",
        "dic = {\n",
        "    \"product\" : [\"fan\", \"Tv\", \"lamp\", \"computer\"],\n",
        "    \"price\" : [200, 500, 100, 700],\n",
        "    \"quantity\" : [2, 3, 1, 4]\n",
        "}\n",
        "# ข้อที่ 1\n",
        "p = np.array(dic[\"price\"])\n",
        "q = np.array(dic[\"quantity\"])\n",
        "\n",
        "total = p*q\n",
        "ans = dict()\n",
        "product = dic[\"product\"]\n",
        "for i in range(len(product)):\n",
        "  ans.update({product[i]:total[i]})\n",
        "print(ans) \n",
        "# ข้อที่ 2\n",
        "sum(ans.values())"
      ],
      "metadata": {
        "colab": {
          "base_uri": "https://localhost:8080/"
        },
        "id": "HSXUlfDOzju1",
        "outputId": "46561880-47b5-47cb-f3a8-70483ca8862d"
      },
      "execution_count": null,
      "outputs": [
        {
          "output_type": "stream",
          "name": "stdout",
          "text": [
            "{'fan': 400, 'Tv': 1500, 'lamp': 100, 'computer': 2800}\n"
          ]
        },
        {
          "output_type": "execute_result",
          "data": {
            "text/plain": [
              "4800"
            ]
          },
          "metadata": {},
          "execution_count": 30
        }
      ]
    },
    {
      "cell_type": "code",
      "source": [
        "dic = {\"product\" : [\"fan\", \"Tv\", \"lamp\", \"computer\"],\"price\" : [200, 500, 100, 700],\"quantity\" : [2, 3, 1, 4]}\n",
        "import numpy as np\n",
        "p,q,r  = np.array(dic[\"price\"]),np.array(dic[\"quantity\"]),np.sum(p*q)\n",
        "print(r)"
      ],
      "metadata": {
        "colab": {
          "base_uri": "https://localhost:8080/"
        },
        "id": "hccaY8vm9czA",
        "outputId": "c441339b-15ee-4a96-db2c-86db6a32cc8f"
      },
      "execution_count": null,
      "outputs": [
        {
          "output_type": "stream",
          "name": "stdout",
          "text": [
            "4800\n"
          ]
        }
      ]
    },
    {
      "cell_type": "code",
      "source": [
        "dic = {\n",
        "    \"profile\" : {\n",
        "        \"khem\" : {\n",
        "            \"name\" : \"khem\",\n",
        "            \"age\" : 20,\n",
        "            \"gender\" : \"male\"\n",
        "        },\n",
        "\n",
        "    },\n",
        "    \"address\" : {\n",
        "        \"khem\" : {\n",
        "            \"home\" : \"jepan\",\n",
        "            \"work\" : \"creater\"\n",
        "        },\n",
        "\n",
        "    }\n",
        "}\n",
        "\n",
        "for i in dic:\n",
        "  print(\"\\n\",i)\n",
        "  for j in dic[i]:\n",
        "    new_dic = dic[i][j]\n",
        "    for k in new_dic:\n",
        "      print(k,\":\",new_dic[k])"
      ],
      "metadata": {
        "colab": {
          "base_uri": "https://localhost:8080/"
        },
        "id": "MY9vPmQQzfCd",
        "outputId": "973a8a55-61b7-4c17-aaeb-877d42426a3a"
      },
      "execution_count": null,
      "outputs": [
        {
          "output_type": "stream",
          "name": "stdout",
          "text": [
            "\n",
            " profile\n",
            "name : khem\n",
            "age : 20\n",
            "gender : male\n",
            "\n",
            " address\n",
            "home : jepan\n",
            "work : creater\n"
          ]
        }
      ]
    },
    {
      "cell_type": "code",
      "source": [
        ""
      ],
      "metadata": {
        "id": "6T4MEIuEwCuY"
      },
      "execution_count": null,
      "outputs": []
    }
  ]
}