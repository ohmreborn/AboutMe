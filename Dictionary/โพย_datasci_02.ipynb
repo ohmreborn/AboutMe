{
  "nbformat": 4,
  "nbformat_minor": 0,
  "metadata": {
    "colab": {
      "name": "โพย datasci_02.ipynb",
      "provenance": [],
      "collapsed_sections": []
    },
    "kernelspec": {
      "name": "python3",
      "display_name": "Python 3"
    },
    "language_info": {
      "name": "python"
    }
  },
  "cells": [
    {
      "cell_type": "code",
      "source": [
        "dic = {\n",
        "# keys : Values\n",
        " \"name\": \"Hero\",\n",
        " \"age\": 18,\n",
        " \"gender\": \"male\"\n",
        "}"
      ],
      "metadata": {
        "id": "ZLfm04Sc07tZ"
      },
      "execution_count": 1,
      "outputs": []
    },
    {
      "cell_type": "code",
      "source": [
        "dic.keys()"
      ],
      "metadata": {
        "colab": {
          "base_uri": "https://localhost:8080/"
        },
        "id": "L06pqZq9HtXk",
        "outputId": "6db8b00b-996f-4b9d-c96a-d803e4279ad4"
      },
      "execution_count": 2,
      "outputs": [
        {
          "output_type": "execute_result",
          "data": {
            "text/plain": [
              "dict_keys(['name', 'age', 'gender'])"
            ]
          },
          "metadata": {},
          "execution_count": 2
        }
      ]
    },
    {
      "cell_type": "code",
      "source": [
        "dic.values()"
      ],
      "metadata": {
        "colab": {
          "base_uri": "https://localhost:8080/"
        },
        "id": "xt3icsp2HyAI",
        "outputId": "d363b502-530c-4bcd-e657-22f0dfae0dc4"
      },
      "execution_count": 3,
      "outputs": [
        {
          "output_type": "execute_result",
          "data": {
            "text/plain": [
              "dict_values(['Hero', 18, 'male'])"
            ]
          },
          "metadata": {},
          "execution_count": 3
        }
      ]
    },
    {
      "cell_type": "markdown",
      "source": [
        "# การเข้าถึงสมาชิก"
      ],
      "metadata": {
        "id": "awPlsHefICiC"
      }
    },
    {
      "cell_type": "code",
      "source": [
        "dic[\"name\"]"
      ],
      "metadata": {
        "colab": {
          "base_uri": "https://localhost:8080/",
          "height": 36
        },
        "id": "fmOjqMO7H3Xb",
        "outputId": "69b4d23d-2f55-4db3-f4cd-e2b98df0a732"
      },
      "execution_count": 4,
      "outputs": [
        {
          "output_type": "execute_result",
          "data": {
            "text/plain": [
              "'Hero'"
            ],
            "application/vnd.google.colaboratory.intrinsic+json": {
              "type": "string"
            }
          },
          "metadata": {},
          "execution_count": 4
        }
      ]
    },
    {
      "cell_type": "markdown",
      "source": [
        "# การเพิ่มสมาชิก"
      ],
      "metadata": {
        "id": "1HubqZmrJPsX"
      }
    },
    {
      "cell_type": "markdown",
      "source": [
        "\n",
        "\n",
        "\n",
        "*   .update({\"keys\":\"values\"})\n",
        "\n",
        "\n"
      ],
      "metadata": {
        "id": "o48ZibEZ12Uo"
      }
    },
    {
      "cell_type": "code",
      "source": [
        "dic = {\n",
        " \"name\": \"Hero\",\n",
        " \"age\": 18,\n",
        " \"gender\": \"male\"\n",
        "}\n",
        "print(dic)\n",
        "dic.update({\"height\":165})\n",
        "print(dic)"
      ],
      "metadata": {
        "colab": {
          "base_uri": "https://localhost:8080/"
        },
        "id": "wFem5zfq2bTR",
        "outputId": "0c55c30b-c41b-47b5-d1f9-1ff4b8165ecb"
      },
      "execution_count": 5,
      "outputs": [
        {
          "output_type": "stream",
          "name": "stdout",
          "text": [
            "{'name': 'Hero', 'age': 18, 'gender': 'male'}\n",
            "{'name': 'Hero', 'age': 18, 'gender': 'male', 'height': 165}\n"
          ]
        }
      ]
    },
    {
      "cell_type": "markdown",
      "source": [
        "มี dic ให้ add dic โดย keys = \"pets และ values = \"dog\""
      ],
      "metadata": {
        "id": "CQ2jQBYg2b3A"
      }
    },
    {
      "cell_type": "code",
      "source": [
        ""
      ],
      "metadata": {
        "id": "MZ8WTswwKSJ7"
      },
      "execution_count": null,
      "outputs": []
    },
    {
      "cell_type": "markdown",
      "source": [
        "dict in list\n",
        "\n",
        "\n",
        "1.   หา ผลรวมของแต่ละ product เช่น {\"fan\":400}เป็นต้น\n",
        "2.   หา ผลรวมทั้งหมด\n",
        "\n",
        "\n",
        "\n"
      ],
      "metadata": {
        "id": "tnleOHAa1fWf"
      }
    },
    {
      "cell_type": "code",
      "source": [
        "dic = {\n",
        "    \"product\" : [\"fan\", \"Tv\", \"lamp\", \"computer\"],\n",
        "    \"price\" : [200, 500, 100, 700],\n",
        "    \"quantity\" : [2, 3, 1, 4]\n",
        "}"
      ],
      "metadata": {
        "colab": {
          "base_uri": "https://localhost:8080/"
        },
        "id": "HSXUlfDOzju1",
        "outputId": "46561880-47b5-47cb-f3a8-70483ca8862d"
      },
      "execution_count": null,
      "outputs": [
        {
          "output_type": "stream",
          "name": "stdout",
          "text": [
            "{'fan': 400, 'Tv': 1500, 'lamp': 100, 'computer': 2800}\n"
          ]
        },
        {
          "output_type": "execute_result",
          "data": {
            "text/plain": [
              "4800"
            ]
          },
          "metadata": {},
          "execution_count": 30
        }
      ]
    },
    {
      "cell_type": "code",
      "source": [
        "dic = {\n",
        "    \"profile\" : {\n",
        "        \"khem\" : {\n",
        "            \"name\" : \"khem\",\n",
        "            \"age\" : 20,\n",
        "            \"gender\" : \"male\"\n",
        "        },\n",
        "\n",
        "    },\n",
        "    \"address\" : {\n",
        "        \"khem\" : {\n",
        "            \"home\" : \"jepan\",\n",
        "            \"work\" : \"creater\"\n",
        "        },\n",
        "\n",
        "    }\n",
        "}\n",
        "# ให้ทำ output ดังรูป\n",
        "\"\"\"\n",
        " profile\n",
        "name : khem\n",
        "age : 20\n",
        "gender : male\n",
        "\n",
        " address\n",
        "home : jepan\n",
        "work : creater\n",
        "\"\"\""
      ],
      "metadata": {
        "id": "MY9vPmQQzfCd"
      },
      "execution_count": 6,
      "outputs": []
    }
  ]
}