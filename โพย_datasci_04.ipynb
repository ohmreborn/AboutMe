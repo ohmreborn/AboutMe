{
  "nbformat": 4,
  "nbformat_minor": 0,
  "metadata": {
    "colab": {
      "name": "โพย datasci_04.ipynb",
      "provenance": [],
      "authorship_tag": "ABX9TyNNy9iGb3LTCQP8WxGmVAer",
      "include_colab_link": true
    },
    "kernelspec": {
      "name": "python3",
      "display_name": "Python 3"
    },
    "language_info": {
      "name": "python"
    }
  },
  "cells": [
    {
      "cell_type": "markdown",
      "metadata": {
        "id": "view-in-github",
        "colab_type": "text"
      },
      "source": [
        "<a href=\"https://colab.research.google.com/github/ohmreborn/AboutMe/blob/main/%E0%B9%82%E0%B8%9E%E0%B8%A2_datasci_04.ipynb\" target=\"_parent\"><img src=\"https://colab.research.google.com/assets/colab-badge.svg\" alt=\"Open In Colab\"/></a>"
      ]
    },
    {
      "cell_type": "code",
      "source": [
        "import pandas as pd\n",
        "manga = {\"ชื่อเรื่อง\":[\"แฟนเช่า\",\"spy x family\",\"ดาบพิฆาตรอสูร\"],\n",
        "             \"ราคา\":[80,85,90],\n",
        "             \"จำนวนเล่ม\":[2,4,3]}\n",
        "df = pd.DataFrame(manga)\n",
        "\n",
        "\n"
      ],
      "metadata": {
        "id": "n8xo-vuEutqr"
      },
      "execution_count": null,
      "outputs": []
    },
    {
      "cell_type": "code",
      "source": [
        "display(df)\n",
        "print(\"hello\")"
      ],
      "metadata": {
        "colab": {
          "base_uri": "https://localhost:8080/",
          "height": 161
        },
        "id": "jCMhUJoGSJv-",
        "outputId": "95b081cf-91a9-42b8-ac4d-4c29b0ac1f54"
      },
      "execution_count": null,
      "outputs": [
        {
          "output_type": "display_data",
          "data": {
            "text/plain": [
              "      ชื่อเรื่อง  ราคา  จำนวนเล่ม\n",
              "0        แฟนเช่า    80          2\n",
              "1   spy x family    85          4\n",
              "2  ดาบพิฆาตรอสูร    90          3"
            ],
            "text/html": [
              "\n",
              "  <div id=\"df-b7923bcc-4301-4633-a74f-524a9ebcf1f9\">\n",
              "    <div class=\"colab-df-container\">\n",
              "      <div>\n",
              "<style scoped>\n",
              "    .dataframe tbody tr th:only-of-type {\n",
              "        vertical-align: middle;\n",
              "    }\n",
              "\n",
              "    .dataframe tbody tr th {\n",
              "        vertical-align: top;\n",
              "    }\n",
              "\n",
              "    .dataframe thead th {\n",
              "        text-align: right;\n",
              "    }\n",
              "</style>\n",
              "<table border=\"1\" class=\"dataframe\">\n",
              "  <thead>\n",
              "    <tr style=\"text-align: right;\">\n",
              "      <th></th>\n",
              "      <th>ชื่อเรื่อง</th>\n",
              "      <th>ราคา</th>\n",
              "      <th>จำนวนเล่ม</th>\n",
              "    </tr>\n",
              "  </thead>\n",
              "  <tbody>\n",
              "    <tr>\n",
              "      <th>0</th>\n",
              "      <td>แฟนเช่า</td>\n",
              "      <td>80</td>\n",
              "      <td>2</td>\n",
              "    </tr>\n",
              "    <tr>\n",
              "      <th>1</th>\n",
              "      <td>spy x family</td>\n",
              "      <td>85</td>\n",
              "      <td>4</td>\n",
              "    </tr>\n",
              "    <tr>\n",
              "      <th>2</th>\n",
              "      <td>ดาบพิฆาตรอสูร</td>\n",
              "      <td>90</td>\n",
              "      <td>3</td>\n",
              "    </tr>\n",
              "  </tbody>\n",
              "</table>\n",
              "</div>\n",
              "      <button class=\"colab-df-convert\" onclick=\"convertToInteractive('df-b7923bcc-4301-4633-a74f-524a9ebcf1f9')\"\n",
              "              title=\"Convert this dataframe to an interactive table.\"\n",
              "              style=\"display:none;\">\n",
              "        \n",
              "  <svg xmlns=\"http://www.w3.org/2000/svg\" height=\"24px\"viewBox=\"0 0 24 24\"\n",
              "       width=\"24px\">\n",
              "    <path d=\"M0 0h24v24H0V0z\" fill=\"none\"/>\n",
              "    <path d=\"M18.56 5.44l.94 2.06.94-2.06 2.06-.94-2.06-.94-.94-2.06-.94 2.06-2.06.94zm-11 1L8.5 8.5l.94-2.06 2.06-.94-2.06-.94L8.5 2.5l-.94 2.06-2.06.94zm10 10l.94 2.06.94-2.06 2.06-.94-2.06-.94-.94-2.06-.94 2.06-2.06.94z\"/><path d=\"M17.41 7.96l-1.37-1.37c-.4-.4-.92-.59-1.43-.59-.52 0-1.04.2-1.43.59L10.3 9.45l-7.72 7.72c-.78.78-.78 2.05 0 2.83L4 21.41c.39.39.9.59 1.41.59.51 0 1.02-.2 1.41-.59l7.78-7.78 2.81-2.81c.8-.78.8-2.07 0-2.86zM5.41 20L4 18.59l7.72-7.72 1.47 1.35L5.41 20z\"/>\n",
              "  </svg>\n",
              "      </button>\n",
              "      \n",
              "  <style>\n",
              "    .colab-df-container {\n",
              "      display:flex;\n",
              "      flex-wrap:wrap;\n",
              "      gap: 12px;\n",
              "    }\n",
              "\n",
              "    .colab-df-convert {\n",
              "      background-color: #E8F0FE;\n",
              "      border: none;\n",
              "      border-radius: 50%;\n",
              "      cursor: pointer;\n",
              "      display: none;\n",
              "      fill: #1967D2;\n",
              "      height: 32px;\n",
              "      padding: 0 0 0 0;\n",
              "      width: 32px;\n",
              "    }\n",
              "\n",
              "    .colab-df-convert:hover {\n",
              "      background-color: #E2EBFA;\n",
              "      box-shadow: 0px 1px 2px rgba(60, 64, 67, 0.3), 0px 1px 3px 1px rgba(60, 64, 67, 0.15);\n",
              "      fill: #174EA6;\n",
              "    }\n",
              "\n",
              "    [theme=dark] .colab-df-convert {\n",
              "      background-color: #3B4455;\n",
              "      fill: #D2E3FC;\n",
              "    }\n",
              "\n",
              "    [theme=dark] .colab-df-convert:hover {\n",
              "      background-color: #434B5C;\n",
              "      box-shadow: 0px 1px 3px 1px rgba(0, 0, 0, 0.15);\n",
              "      filter: drop-shadow(0px 1px 2px rgba(0, 0, 0, 0.3));\n",
              "      fill: #FFFFFF;\n",
              "    }\n",
              "  </style>\n",
              "\n",
              "      <script>\n",
              "        const buttonEl =\n",
              "          document.querySelector('#df-b7923bcc-4301-4633-a74f-524a9ebcf1f9 button.colab-df-convert');\n",
              "        buttonEl.style.display =\n",
              "          google.colab.kernel.accessAllowed ? 'block' : 'none';\n",
              "\n",
              "        async function convertToInteractive(key) {\n",
              "          const element = document.querySelector('#df-b7923bcc-4301-4633-a74f-524a9ebcf1f9');\n",
              "          const dataTable =\n",
              "            await google.colab.kernel.invokeFunction('convertToInteractive',\n",
              "                                                     [key], {});\n",
              "          if (!dataTable) return;\n",
              "\n",
              "          const docLinkHtml = 'Like what you see? Visit the ' +\n",
              "            '<a target=\"_blank\" href=https://colab.research.google.com/notebooks/data_table.ipynb>data table notebook</a>'\n",
              "            + ' to learn more about interactive tables.';\n",
              "          element.innerHTML = '';\n",
              "          dataTable['output_type'] = 'display_data';\n",
              "          await google.colab.output.renderOutput(dataTable, element);\n",
              "          const docLink = document.createElement('div');\n",
              "          docLink.innerHTML = docLinkHtml;\n",
              "          element.appendChild(docLink);\n",
              "        }\n",
              "      </script>\n",
              "    </div>\n",
              "  </div>\n",
              "  "
            ]
          },
          "metadata": {}
        },
        {
          "output_type": "stream",
          "name": "stdout",
          "text": [
            "hello\n"
          ]
        }
      ]
    },
    {
      "cell_type": "code",
      "source": [
        "\"\"\"\n",
        "gold   silver    bronze    total\n",
        "1       2           3         6\n",
        "3       2           4         9\n",
        ".....\n",
        "....\n",
        "..\n",
        "\"\"\""
      ],
      "metadata": {
        "colab": {
          "base_uri": "https://localhost:8080/"
        },
        "id": "HOCDECJ2Nxyg",
        "outputId": "65bf8066-b6dd-4b63-d5a1-84e974c4dad0"
      },
      "execution_count": null,
      "outputs": [
        {
          "output_type": "execute_result",
          "data": {
            "text/plain": [
              "0    2\n",
              "1    4\n",
              "2    3\n",
              "Name: จำนวนเล่ม, dtype: int64"
            ]
          },
          "metadata": {},
          "execution_count": 27
        }
      ]
    },
    {
      "cell_type": "code",
      "source": [
        "import pandas as pd\n",
        "dic = {\n",
        "    \"product\" : [\"fan\", \"Tv\", \"lamp\", \"computer\"],\n",
        "    \"price\" : [200, 500, 100, 700],\n",
        "    \"quantity\" : [2, 3, 1, None]\n",
        "}\n",
        "df = pd.DataFrame(dic)\n",
        "df.dropna(inplace=True)\n",
        "print(df)\n",
        "\"\"\"\n",
        "  product  price  quantity\n",
        "0     fan    200       2.0\n",
        "1      Tv    500       3.0\n",
        "2    lamp    100       1.0\n",
        "\"\"\""
      ],
      "metadata": {
        "colab": {
          "base_uri": "https://localhost:8080/",
          "height": 108
        },
        "id": "fH5bBOhOwQrM",
        "outputId": "00a84807-ba8b-4ab3-d06f-6393d9628a8d"
      },
      "execution_count": null,
      "outputs": [
        {
          "output_type": "stream",
          "name": "stdout",
          "text": [
            "  product  price  quantity\n",
            "0     fan    200       2.0\n",
            "1      Tv    500       3.0\n",
            "2    lamp    100       1.0\n"
          ]
        },
        {
          "output_type": "execute_result",
          "data": {
            "text/plain": [
              "'\\n  product  price  quantity\\n0     fan    200       2.0\\n1      Tv    500       3.0\\n2    lamp    100       1.0\\n'"
            ],
            "application/vnd.google.colaboratory.intrinsic+json": {
              "type": "string"
            }
          },
          "metadata": {},
          "execution_count": 5
        }
      ]
    },
    {
      "cell_type": "markdown",
      "source": [
        "Medals.csv\n",
        "1. : แต่ละประเทศได้เหรียญกันไปเท่าไหร่\n",
        "2. : เหรียญทั้งหมดในการแข่งขันมีทั้งหมดกี่เหรียญ"
      ],
      "metadata": {
        "id": "RQsKkTj6oG8W"
      }
    },
    {
      "cell_type": "markdown",
      "source": [
        "* EntriesGender.csv\n",
        "1. : ในกีฬาแต่ละชนิดมีนักกีฬากี่คน รวมชายหญิง\n",
        "2. : มีนักกีฬาชายกี่คน หญิงกี่คน\n",
        "* ex\n",
        "* Athletes.csv\n",
        "1. : แต่ละประเทศมีนักกีฬากี่คน\n",
        "2. : นักกีฬาแต่ละประเทศลงแข่งกีฬาชนิดไหนบ้าง และ กี่คนในแต่ละชนิด\n",
        "* โจทย์ data firearm\n",
        "1. ใน data นี้มีกี่ state และอะไรบ้าง\n",
        "2. แต่ละ state ซื้อปืน hand gun ไปเท่าไหร่\n",
        "3. แต่ละ state ซื้อปืนทั้งหมด ไปเท่าไหร่\n",
        "4. แต่ละ state recheck_permit ไปเท่าไหร่"
      ],
      "metadata": {
        "id": "su_bcSGDtajw"
      }
    },
    {
      "cell_type": "code",
      "source": [
        ""
      ],
      "metadata": {
        "id": "WjD_YS8ubTNp"
      },
      "execution_count": null,
      "outputs": []
    }
  ]
}