{
  "nbformat": 4,
  "nbformat_minor": 0,
  "metadata": {
    "colab": {
      "name": "โพย Datasci_01.ipynb",
      "provenance": [],
      "authorship_tag": "ABX9TyOGYbsLhVmSEMlsHbUXKsBP",
      "include_colab_link": true
    },
    "kernelspec": {
      "name": "python3",
      "display_name": "Python 3"
    },
    "language_info": {
      "name": "python"
    }
  },
  "cells": [
    {
      "cell_type": "markdown",
      "metadata": {
        "id": "view-in-github",
        "colab_type": "text"
      },
      "source": [
        "<a href=\"https://colab.research.google.com/github/ohmreborn/AboutMe/blob/main/%E0%B9%82%E0%B8%9E%E0%B8%A2_Datasci_01.ipynb\" target=\"_parent\"><img src=\"https://colab.research.google.com/assets/colab-badge.svg\" alt=\"Open In Colab\"/></a>"
      ]
    },
    {
      "cell_type": "code",
      "source": [
        "weight = [45,50,47,52]\n",
        "height = [165,167,160,156]"
      ],
      "metadata": {
        "id": "FmAm-NrbZcOy"
      },
      "execution_count": null,
      "outputs": []
    },
    {
      "cell_type": "code",
      "source": [
        "name =\"โดเรม่อน\"\n",
        "price = 60\n",
        "page = 200\n",
        "a = [\"โดเรม่อน\",60,200]\n"
      ],
      "metadata": {
        "id": "o6c7t7sm85mu"
      },
      "execution_count": null,
      "outputs": []
    },
    {
      "cell_type": "code",
      "source": [
        "for i in range(4):\n",
        "  print(weight[i]/(height[i]/100)**2)"
      ],
      "metadata": {
        "colab": {
          "base_uri": "https://localhost:8080/"
        },
        "id": "ms9xMnyBjDId",
        "outputId": "305a1d90-8cda-435f-8ba8-266b9478a927"
      },
      "execution_count": null,
      "outputs": [
        {
          "output_type": "stream",
          "name": "stdout",
          "text": [
            "16.528925619834713\n",
            "17.92821542543655\n",
            "18.359374999999996\n",
            "21.367521367521366\n"
          ]
        }
      ]
    },
    {
      "cell_type": "code",
      "source": [
        "import numpy as np\n",
        "a = np.array(weight)\n",
        "b = np.array(height)\n",
        "print(a*b)"
      ],
      "metadata": {
        "colab": {
          "base_uri": "https://localhost:8080/"
        },
        "id": "YD-_UeVDw12n",
        "outputId": "babb5d94-2c90-4f90-c48e-2a7ff2248b70"
      },
      "execution_count": null,
      "outputs": [
        {
          "output_type": "stream",
          "name": "stdout",
          "text": [
            "[7425 8350 7520 8112]\n"
          ]
        }
      ]
    },
    {
      "cell_type": "markdown",
      "source": [
        "1. หาค่าเฉลี่ยของน้ำหนัก\n",
        "2. หาค่าเฉลี่ยของส่วนสูง\n",
        "3. หาค่า BMI ของแต่ละคนออกมา"
      ],
      "metadata": {
        "id": "jOKOrdWrZvCn"
      }
    },
    {
      "cell_type": "code",
      "execution_count": null,
      "metadata": {
        "id": "iJAE9Zy2NLZ9"
      },
      "outputs": [],
      "source": [
        "import numpy as np"
      ]
    },
    {
      "cell_type": "code",
      "source": [
        "arr = np.array([99,98,97,96])\n",
        "print(arr/2)"
      ],
      "metadata": {
        "colab": {
          "base_uri": "https://localhost:8080/"
        },
        "id": "jhQFGs6sOYXM",
        "outputId": "4f2ae74f-e16f-4af0-8468-5c1b5dfd121b"
      },
      "execution_count": null,
      "outputs": [
        {
          "output_type": "stream",
          "name": "stdout",
          "text": [
            "[49.5 49.  48.5 48. ]\n"
          ]
        }
      ]
    },
    {
      "cell_type": "code",
      "source": [
        "ls = [55,56,57,58]\n",
        "arr2 = np.array(ls)\n",
        "print(arr2)"
      ],
      "metadata": {
        "colab": {
          "base_uri": "https://localhost:8080/"
        },
        "id": "0JNJN-RVOhed",
        "outputId": "b884b377-4791-47cd-f0b3-d5cef4338451"
      },
      "execution_count": null,
      "outputs": [
        {
          "output_type": "stream",
          "name": "stdout",
          "text": [
            "[55 56 57 58]\n"
          ]
        }
      ]
    },
    {
      "cell_type": "code",
      "source": [
        "print(arr2[0])"
      ],
      "metadata": {
        "colab": {
          "base_uri": "https://localhost:8080/"
        },
        "id": "wXHte9hrRuJt",
        "outputId": "4aa4da56-7416-46ac-f18e-b475422a4697"
      },
      "execution_count": null,
      "outputs": [
        {
          "output_type": "stream",
          "name": "stdout",
          "text": [
            "55\n"
          ]
        }
      ]
    },
    {
      "cell_type": "code",
      "source": [
        "print(arr2[0:3])"
      ],
      "metadata": {
        "colab": {
          "base_uri": "https://localhost:8080/"
        },
        "id": "uM-zDBeWR0pE",
        "outputId": "28ddcf80-31b4-4cb8-f39b-283c17100a5d"
      },
      "execution_count": null,
      "outputs": [
        {
          "output_type": "stream",
          "name": "stdout",
          "text": [
            "[55 56 57]\n"
          ]
        }
      ]
    },
    {
      "cell_type": "code",
      "source": [
        "print(arr+arr2)\n",
        "print(arr-arr2)\n",
        "print(arr*arr2)\n",
        "print(arr/arr2)"
      ],
      "metadata": {
        "colab": {
          "base_uri": "https://localhost:8080/"
        },
        "id": "vYLyGNDLaMDg",
        "outputId": "b2cfd61c-c313-422f-e42d-f58b32fe9b23"
      },
      "execution_count": null,
      "outputs": [
        {
          "output_type": "stream",
          "name": "stdout",
          "text": [
            "[154 154 154 154]\n",
            "[44 42 40 38]\n",
            "[5445 5488 5529 5568]\n",
            "[1.8        1.75       1.70175439 1.65517241]\n"
          ]
        }
      ]
    },
    {
      "cell_type": "code",
      "source": [
        "# print(arr+1)\n",
        "# print(arr-1)\n",
        "# print(arr*2)\n",
        "# print(arr/2)\n",
        "# print(arr**2)"
      ],
      "metadata": {
        "colab": {
          "base_uri": "https://localhost:8080/"
        },
        "id": "UEpHEI3wahnP",
        "outputId": "b7b10111-441a-49b5-ed9c-8ebd0faef094"
      },
      "execution_count": null,
      "outputs": [
        {
          "output_type": "stream",
          "name": "stdout",
          "text": [
            "[100  99  98  97]\n"
          ]
        }
      ]
    },
    {
      "cell_type": "code",
      "source": [
        "arr2d = np.array([[34,35,36],[23,42,45],[56,65,67]])\n",
        "print(arr2d)"
      ],
      "metadata": {
        "colab": {
          "base_uri": "https://localhost:8080/"
        },
        "id": "-ci-VpDtPFKW",
        "outputId": "f984e9fd-077d-4159-f4c2-cd25da11bd4e"
      },
      "execution_count": null,
      "outputs": [
        {
          "output_type": "stream",
          "name": "stdout",
          "text": [
            "[[34 35 36]\n",
            " [23 42 45]\n",
            " [56 65 67]]\n"
          ]
        }
      ]
    },
    {
      "cell_type": "code",
      "source": [
        "ls2d = [[34,35,36],[23,42,45],[56,65,67]]\n",
        "arr2d_2 = np.array(ls2d)\n",
        "print(arr2d_2)"
      ],
      "metadata": {
        "colab": {
          "base_uri": "https://localhost:8080/"
        },
        "id": "AgSoxSHbPqVP",
        "outputId": "ab62ab41-2122-49ca-b60e-486b965a952e"
      },
      "execution_count": null,
      "outputs": [
        {
          "output_type": "stream",
          "name": "stdout",
          "text": [
            "[[34 35 36]\n",
            " [23 42 45]\n",
            " [56 65 67]]\n"
          ]
        }
      ]
    },
    {
      "cell_type": "code",
      "source": [
        "print(arr2d[0,0])"
      ],
      "metadata": {
        "colab": {
          "base_uri": "https://localhost:8080/"
        },
        "id": "Y0pbKHVAk7hB",
        "outputId": "adcdc76f-bc79-405c-f7f0-be327bdf0b83"
      },
      "execution_count": null,
      "outputs": [
        {
          "output_type": "stream",
          "name": "stdout",
          "text": [
            "34\n"
          ]
        }
      ]
    },
    {
      "cell_type": "code",
      "source": [
        "print(arr2d_2[0:2,2])"
      ],
      "metadata": {
        "colab": {
          "base_uri": "https://localhost:8080/"
        },
        "id": "GnVh2PeSSgp0",
        "outputId": "62cb0ba4-88c8-4676-d910-835fd19f718a"
      },
      "execution_count": null,
      "outputs": [
        {
          "output_type": "stream",
          "name": "stdout",
          "text": [
            "[36 45]\n"
          ]
        }
      ]
    },
    {
      "cell_type": "code",
      "source": [
        "print(arr2d_2[0:2,0:2])"
      ],
      "metadata": {
        "colab": {
          "base_uri": "https://localhost:8080/"
        },
        "id": "gSjSqonAS_Uk",
        "outputId": "a12b52f0-ed9e-45e8-a063-7b14cb964574"
      },
      "execution_count": null,
      "outputs": [
        {
          "output_type": "stream",
          "name": "stdout",
          "text": [
            "[[34 35]\n",
            " [23 42]]\n"
          ]
        }
      ]
    },
    {
      "cell_type": "code",
      "source": [
        "print(arr2d_2[1:3,0:3])"
      ],
      "metadata": {
        "colab": {
          "base_uri": "https://localhost:8080/"
        },
        "id": "DY42ENy6mIyV",
        "outputId": "b49e860c-62e7-45ee-d982-f14c070aa29c"
      },
      "execution_count": null,
      "outputs": [
        {
          "output_type": "stream",
          "name": "stdout",
          "text": [
            "[[23 42 45]\n",
            " [56 65 67]]\n"
          ]
        }
      ]
    },
    {
      "cell_type": "code",
      "source": [
        "arr = np.array([[1,2,3,4],\n",
        "                [5,6,7,8]])\n",
        "\n",
        "print(arr)\n",
        "print(\"-------\")\n",
        "print(arr[0:2,2])"
      ],
      "metadata": {
        "colab": {
          "base_uri": "https://localhost:8080/"
        },
        "id": "MiHSDMX4lvn8",
        "outputId": "4077e7dc-c377-495d-8229-0e8032f8fb8d"
      },
      "execution_count": null,
      "outputs": [
        {
          "output_type": "stream",
          "name": "stdout",
          "text": [
            "[[1 2 3 4]\n",
            " [5 6 7 8]]\n",
            "-------\n",
            "[3 7]\n"
          ]
        }
      ]
    },
    {
      "cell_type": "markdown",
      "source": [
        "arr = np.array([[1,2,3,4],[5,6,7,8]])\n",
        "\n",
        "1.   [4 8]\n",
        "2.   [3 7]\n",
        "\n"
      ],
      "metadata": {
        "id": "6EMAQYrXbHCQ"
      }
    },
    {
      "cell_type": "markdown",
      "source": [
        "![array2.png](data:image/png;base64,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)"
      ],
      "metadata": {
        "id": "24UsOTu8RojF"
      }
    },
    {
      "cell_type": "markdown",
      "source": [
        "![array.png.jpg](data:image/jpeg;base64,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)"
      ],
      "metadata": {
        "id": "q16EBhj6VXec"
      }
    },
    {
      "cell_type": "code",
      "source": [
        "ar1 = np.array([7,2,9,10])\n",
        "print(ar1)\n",
        "print(ar1.shape)"
      ],
      "metadata": {
        "colab": {
          "base_uri": "https://localhost:8080/"
        },
        "id": "IK_ocFBTN6PN",
        "outputId": "41a109cf-46a7-4d7c-d015-59bfd465e7ab"
      },
      "execution_count": null,
      "outputs": [
        {
          "output_type": "stream",
          "name": "stdout",
          "text": [
            "[ 7  2  9 10]\n",
            "(4,)\n"
          ]
        }
      ]
    },
    {
      "cell_type": "code",
      "source": [
        "ar2 = np.array([[5.2,3.0,4.5],\n",
        "                [9.1,0.1,0.3]])\n",
        "print(ar2)\n",
        "print(ar2.shape)"
      ],
      "metadata": {
        "colab": {
          "base_uri": "https://localhost:8080/"
        },
        "id": "71pMg9V9TSNV",
        "outputId": "ca06e6dc-c32c-4c98-afcf-d408636af2b8"
      },
      "execution_count": null,
      "outputs": [
        {
          "output_type": "stream",
          "name": "stdout",
          "text": [
            "[[5.2 3.  4.5]\n",
            " [9.1 0.1 0.3]]\n",
            "(2, 3)\n"
          ]
        }
      ]
    },
    {
      "cell_type": "code",
      "source": [
        "ar2 = np.array([[5.2,3.0,4.5],\n",
        "                [9.1,0.1,0.3]])\n",
        "print(ar2.reshape((3,2)))\n",
        "# print(\"-------------\")\n",
        "# print(ar2)"
      ],
      "metadata": {
        "colab": {
          "base_uri": "https://localhost:8080/"
        },
        "id": "SeHCjdVqV0Ti",
        "outputId": "0895e3e0-4265-46fc-bd3c-79fc0755340e"
      },
      "execution_count": null,
      "outputs": [
        {
          "output_type": "stream",
          "name": "stdout",
          "text": [
            "[[5.2 3. ]\n",
            " [4.5 9.1]\n",
            " [0.1 0.3]]\n"
          ]
        }
      ]
    },
    {
      "cell_type": "code",
      "source": [
        "print(ar2.flatten())"
      ],
      "metadata": {
        "colab": {
          "base_uri": "https://localhost:8080/"
        },
        "id": "KJiXsAOSvtZt",
        "outputId": "58f4d16d-65c1-435b-a648-0621c8154296"
      },
      "execution_count": null,
      "outputs": [
        {
          "output_type": "stream",
          "name": "stdout",
          "text": [
            "[5.2 3.  4.5 9.1 0.1 0.3]\n"
          ]
        }
      ]
    },
    {
      "cell_type": "code",
      "source": [
        "arr1 = np.array([1, 2, 3])\n",
        "arr2 = np.array([4, 5, 6])\n",
        "arr3 = np.concatenate((arr1, arr2))\n",
        "print(arr3)"
      ],
      "metadata": {
        "colab": {
          "base_uri": "https://localhost:8080/"
        },
        "id": "JvAXY3hfV8Nb",
        "outputId": "925fc89b-683f-408c-d221-8af0794b817b"
      },
      "execution_count": null,
      "outputs": [
        {
          "output_type": "stream",
          "name": "stdout",
          "text": [
            "[1 2 3 4 5 6]\n"
          ]
        }
      ]
    },
    {
      "cell_type": "code",
      "source": [
        "ar2 = np.array([[5.2,3.0,4.5],\n",
        "                [9.1,0.1,0.3]])\n",
        "print(np.sort(ar2,axis=1))"
      ],
      "metadata": {
        "colab": {
          "base_uri": "https://localhost:8080/"
        },
        "id": "H23eiOp8WY6Y",
        "outputId": "cdc12881-8936-474e-df35-2fa040c50d42"
      },
      "execution_count": null,
      "outputs": [
        {
          "output_type": "stream",
          "name": "stdout",
          "text": [
            "[[3.  4.5 5.2]\n",
            " [0.1 0.3 9.1]]\n"
          ]
        }
      ]
    },
    {
      "cell_type": "code",
      "source": [
        "print(np.sort(ar2,axis=0))"
      ],
      "metadata": {
        "colab": {
          "base_uri": "https://localhost:8080/"
        },
        "id": "2kiH995mXjSb",
        "outputId": "7a28f38f-c2f6-4054-de24-e04b26fcf3f0"
      },
      "execution_count": null,
      "outputs": [
        {
          "output_type": "stream",
          "name": "stdout",
          "text": [
            "[[5.2 0.1 0.3]\n",
            " [9.1 3.  4.5]]\n"
          ]
        }
      ]
    },
    {
      "cell_type": "code",
      "source": [
        "\"\"\"\n",
        "[[0.1 0.3 3. ]\n",
        " [4.5 5.2 9.1]]\n",
        " \"\"\""
      ],
      "metadata": {
        "id": "CYJzfXoxcjxc"
      },
      "execution_count": null,
      "outputs": []
    },
    {
      "cell_type": "code",
      "source": [
        "import numpy as np\n",
        "rdarr = np.random.randint(10,100, size=(3, 5))\n",
        "print(rdarr)"
      ],
      "metadata": {
        "colab": {
          "base_uri": "https://localhost:8080/"
        },
        "id": "g8RJXvonWmTV",
        "outputId": "eb77375f-de57-4881-d661-b3151476d1a7"
      },
      "execution_count": null,
      "outputs": [
        {
          "output_type": "stream",
          "name": "stdout",
          "text": [
            "[[65 95 91 87 41]\n",
            " [37 19 18 46 62]\n",
            " [19 78 21 21 77]]\n"
          ]
        }
      ]
    },
    {
      "cell_type": "code",
      "source": [
        "array = np.random.randint(0,1000, size=(5, 5))\n",
        "print(np.sort(array,axis=1))"
      ],
      "metadata": {
        "colab": {
          "base_uri": "https://localhost:8080/"
        },
        "id": "Yq5JUz_rXa0D",
        "outputId": "107fe2e6-c38a-4bba-c363-e9ae580edd15"
      },
      "execution_count": null,
      "outputs": [
        {
          "output_type": "stream",
          "name": "stdout",
          "text": [
            "[[ 38 277 333 503 527]\n",
            " [384 439 584 703 982]\n",
            " [185 384 818 872 893]\n",
            " [ 72 281 497 581 679]\n",
            " [187 269 365 455 650]]\n"
          ]
        }
      ]
    },
    {
      "cell_type": "code",
      "source": [
        "array = array.flatten()"
      ],
      "metadata": {
        "id": "1aE8GDm9vCkd"
      },
      "execution_count": null,
      "outputs": []
    },
    {
      "cell_type": "code",
      "source": [
        "print(np.sort(array))"
      ],
      "metadata": {
        "colab": {
          "base_uri": "https://localhost:8080/"
        },
        "id": "SkiHLzl6wJjI",
        "outputId": "6134c9db-39d7-451c-fe64-bc6a702f1bf1"
      },
      "execution_count": null,
      "outputs": [
        {
          "output_type": "stream",
          "name": "stdout",
          "text": [
            "[ 38  72 185 187 269 277 281 333 365 384 384 439 455 497 503 527 581 584\n",
            " 650 679 703 818 872 893 982]\n"
          ]
        }
      ]
    },
    {
      "cell_type": "code",
      "source": [
        "array = np.random.randint(0,1000, size=(5, 5))\n",
        "print (array)\n",
        "print ()\n",
        "array = array.flatten()\n",
        "array = np.sort(array,axis=0)\n",
        "array = array.reshape(5,5)\n",
        "print (array)"
      ],
      "metadata": {
        "colab": {
          "base_uri": "https://localhost:8080/"
        },
        "id": "LurtZz1HwcnG",
        "outputId": "98edd494-af52-4949-d204-389c1f67ac12"
      },
      "execution_count": null,
      "outputs": [
        {
          "output_type": "stream",
          "name": "stdout",
          "text": [
            "[[921 231 829 296  36]\n",
            " [ 27 619 905 164 742]\n",
            " [633 686 955 659 841]\n",
            " [644 963 441 206  38]\n",
            " [982 764 707 324 464]]\n",
            "\n",
            "[[ 27  36  38 164 206]\n",
            " [231 296 324 441 464]\n",
            " [619 633 644 659 686]\n",
            " [707 742 764 829 841]\n",
            " [905 921 955 963 982]]\n"
          ]
        }
      ]
    },
    {
      "cell_type": "code",
      "source": [
        "ar2 = np.array([[5.2,3.0,4.5],\n",
        "                [9.1,0.1,0.3]])\n",
        "\n",
        "ar2 = ar2.flatten()\n",
        "ar2 = np.sort(ar2,axis=0)\n",
        "ar2 = ar2.reshape(2,3)\n",
        "print (ar2)"
      ],
      "metadata": {
        "colab": {
          "base_uri": "https://localhost:8080/"
        },
        "id": "r7K-cT31yk2A",
        "outputId": "44546402-bddd-4ad5-89d8-fcaaaf31fc95"
      },
      "execution_count": null,
      "outputs": [
        {
          "output_type": "stream",
          "name": "stdout",
          "text": [
            "[[0.1 0.3 3. ]\n",
            " [4.5 5.2 9.1]]\n"
          ]
        }
      ]
    },
    {
      "cell_type": "code",
      "source": [
        ""
      ],
      "metadata": {
        "id": "FYYVG77x00R5"
      },
      "execution_count": null,
      "outputs": []
    }
  ]
}
